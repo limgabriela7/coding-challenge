{
 "cells": [
  {
   "cell_type": "code",
   "execution_count": 1,
   "metadata": {},
   "outputs": [],
   "source": [
    "import json\n",
    "import pandas as pd\n",
    "import os"
   ]
  },
  {
   "cell_type": "code",
   "execution_count": 10,
   "metadata": {},
   "outputs": [],
   "source": [
    "def json_to_dataframe(json_directory):\n",
    "    data_table = []\n",
    "\n",
    "    for file_name in os.listdir(json_directory):\n",
    "        if file_name.endswith('.json'):\n",
    "            file_path = os.path.join(json_directory, file_name)\n",
    "            \n",
    "            with open(file_path, 'r') as file:\n",
    "                value = json.load(file)\n",
    "            \n",
    " \n",
    "            if 'data' in value:\n",
    "                row_data = {\n",
    "                    'id': value['id'],\n",
    "                    'operation': value['op'],\n",
    "                    'timestamp': value['ts'],\n",
    "                    **value['data']\n",
    "                }\n",
    "            elif 'set' in value:\n",
    "                row_data = {\n",
    "                    'id': value['id'],\n",
    "                    'operation': value['op'],\n",
    "                    'timestamp': value['ts'],\n",
    "                }\n",
    "                row_data.update(value['set']) \n",
    "            \n",
    "            data_table.append(row_data)\n",
    "\n",
    "\n",
    "    data_frame = pd.DataFrame(data_table)\n",
    "    \n",
    "    return data_frame"
   ]
  },
  {
   "cell_type": "code",
   "execution_count": 11,
   "metadata": {},
   "outputs": [],
   "source": [
    "df_accounts = json_to_dataframe('/Users/pinjammodal3/Downloads/dwh-coding-challenge/data/accounts')\n",
    "df_cards = json_to_dataframe('/Users/pinjammodal3/Downloads/dwh-coding-challenge/data/cards')\n",
    "df_savingacc = json_to_dataframe('/Users/pinjammodal3/Downloads/dwh-coding-challenge/data/savings_accounts')"
   ]
  },
  {
   "cell_type": "code",
   "execution_count": 22,
   "metadata": {},
   "outputs": [
    {
     "name": "stdout",
     "output_type": "stream",
     "text": [
      "Accounts:\n",
      "           id operation      timestamp savings_account_id card_id  \\\n",
      "0  a1globalid         u  1577890800000                sa1     NaN   \n",
      "1  a1globalid         u  1577926800000                NaN      c1   \n",
      "2  a1globalid         u  1579163400000                NaN      c2   \n",
      "3  a1globalid         u  1579078860000                NaN           \n",
      "4  a1globalid         u  1577865600000                NaN     NaN   \n",
      "5  a1globalid         c  1577863800000                NaN     NaN   \n",
      "6  a1globalid         u  1577894400000                NaN     NaN   \n",
      "\n",
      "  phone_number account_id     name   address                    email  \n",
      "0          NaN        NaN      NaN       NaN                      NaN  \n",
      "1          NaN        NaN      NaN       NaN                      NaN  \n",
      "2          NaN        NaN      NaN       NaN                      NaN  \n",
      "3          NaN        NaN      NaN       NaN                      NaN  \n",
      "4     87654321        NaN      NaN       NaN                      NaN  \n",
      "5     12345678         a1  Anthony  New York     anthony@somebank.com  \n",
      "6          NaN        NaN      NaN   Jakarta  anthony@anotherbank.com  \n",
      "Cards:\n",
      "           id operation      timestamp card_id card_number  credit_used  \\\n",
      "0  c1globalid         c  1577926800000      c1    11112222          0.0   \n",
      "1  c2globalid         c  1579163400000      c2    12123434          0.0   \n",
      "2  c1globalid         u  1579078800000     NaN         NaN          NaN   \n",
      "3  c1globalid         u  1578654000000     NaN         NaN          0.0   \n",
      "4  c1globalid         u  1578159000000     NaN         NaN          NaN   \n",
      "5  c2globalid         u  1579298400000     NaN         NaN          NaN   \n",
      "6  c2globalid         u  1579361400000     NaN         NaN      37000.0   \n",
      "7  c1globalid         u  1578313800000     NaN         NaN      12000.0   \n",
      "8  c1globalid         u  1578420000000     NaN         NaN      19000.0   \n",
      "\n",
      "   monthly_limit   status  \n",
      "0        30000.0  PENDING  \n",
      "1        70000.0  PENDING  \n",
      "2            NaN   CLOSED  \n",
      "3            NaN      NaN  \n",
      "4            NaN   ACTIVE  \n",
      "5            NaN   ACTIVE  \n",
      "6            NaN      NaN  \n",
      "7            NaN      NaN  \n",
      "8            NaN      NaN  \n",
      "Saving Accounts:\n",
      "            id operation      timestamp savings_account_id  balance  \\\n",
      "0  sa1globalid         c  1577890800000                sa1      0.0   \n",
      "1  sa1globalid         u  1578159060000                NaN      NaN   \n",
      "2  sa1globalid         u  1579298460000                NaN      NaN   \n",
      "3  sa1globalid         u  1578648600000                NaN  40000.0   \n",
      "4  sa1globalid         u  1579078860000                NaN      NaN   \n",
      "5  sa1globalid         u  1578654000000                NaN  21000.0   \n",
      "6  sa1globalid         u  1579505400000                NaN  33000.0   \n",
      "7  sa1globalid         u  1577955600000                NaN  15000.0   \n",
      "\n",
      "   interest_rate_percent  status  \n",
      "0                    1.5  ACTIVE  \n",
      "1                    3.0     NaN  \n",
      "2                    4.0     NaN  \n",
      "3                    NaN     NaN  \n",
      "4                    1.5     NaN  \n",
      "5                    NaN     NaN  \n",
      "6                    NaN     NaN  \n",
      "7                    NaN     NaN  \n"
     ]
    }
   ],
   "source": [
    "# 1.Visualize the complete historical table view of each tables in tabular format in stdout \n",
    "print('Accounts:')\n",
    "print(df_accounts)\n",
    "print('Cards:')\n",
    "print(df_cards)\n",
    "print('Saving Accounts:')\n",
    "print(df_savingacc)"
   ]
  },
  {
   "cell_type": "code",
   "execution_count": 57,
   "metadata": {},
   "outputs": [
    {
     "data": {
      "text/plain": [
       "8"
      ]
     },
     "execution_count": 57,
     "metadata": {},
     "output_type": "execute_result"
    }
   ],
   "source": [
    "import sqlite3\n",
    "conn = sqlite3.connect(':memory:')  # Creates an in-memory SQLite database\n",
    "df_accounts.to_sql('accounts', conn, index=False)\n",
    "df_cards.to_sql('cards', conn, index=False)\n",
    "df_savingacc.to_sql('saving_accounts', conn, index=False)"
   ]
  },
  {
   "cell_type": "code",
   "execution_count": 86,
   "metadata": {},
   "outputs": [
    {
     "name": "stdout",
     "output_type": "stream",
     "text": [
      "Historical Accounts & Cards\n",
      "              at            ct          id operation     timestamp  \\\n",
      "0   1.577864e+12           NaN  a1globalid         c  1.577864e+12   \n",
      "1   1.577866e+12           NaN  a1globalid         u  1.577866e+12   \n",
      "2   1.577891e+12           NaN  a1globalid         u  1.577891e+12   \n",
      "3   1.577894e+12           NaN  a1globalid         u  1.577894e+12   \n",
      "4   1.577927e+12  1.577927e+12  a1globalid         u  1.577927e+12   \n",
      "5   1.579079e+12           NaN  a1globalid         u  1.579079e+12   \n",
      "6   1.579163e+12  1.579163e+12  a1globalid         u  1.579163e+12   \n",
      "7            NaN  1.579079e+12        None      None           NaN   \n",
      "8            NaN  1.578654e+12        None      None           NaN   \n",
      "9            NaN  1.578159e+12        None      None           NaN   \n",
      "10           NaN  1.579298e+12        None      None           NaN   \n",
      "11           NaN  1.579361e+12        None      None           NaN   \n",
      "12           NaN  1.578314e+12        None      None           NaN   \n",
      "13           NaN  1.578420e+12        None      None           NaN   \n",
      "\n",
      "   savings_account_id card_id phone_number account_id     name   address  \\\n",
      "0                None    None     12345678         a1  Anthony  New York   \n",
      "1                None    None     87654321       None     None      None   \n",
      "2                 sa1    None         None       None     None      None   \n",
      "3                None    None         None       None     None   Jakarta   \n",
      "4                None      c1         None       None     None      None   \n",
      "5                None                 None       None     None      None   \n",
      "6                None      c2         None       None     None      None   \n",
      "7                None    None         None       None     None      None   \n",
      "8                None    None         None       None     None      None   \n",
      "9                None    None         None       None     None      None   \n",
      "10               None    None         None       None     None      None   \n",
      "11               None    None         None       None     None      None   \n",
      "12               None    None         None       None     None      None   \n",
      "13               None    None         None       None     None      None   \n",
      "\n",
      "                      email        id:1 operation:1   timestamp:1 card_id:1  \\\n",
      "0      anthony@somebank.com        None        None           NaN      None   \n",
      "1                      None        None        None           NaN      None   \n",
      "2                      None        None        None           NaN      None   \n",
      "3   anthony@anotherbank.com        None        None           NaN      None   \n",
      "4                      None  c1globalid           c  1.577927e+12        c1   \n",
      "5                      None        None        None           NaN      None   \n",
      "6                      None  c2globalid           c  1.579163e+12        c2   \n",
      "7                      None  c1globalid           u  1.579079e+12      None   \n",
      "8                      None  c1globalid           u  1.578654e+12      None   \n",
      "9                      None  c1globalid           u  1.578159e+12      None   \n",
      "10                     None  c2globalid           u  1.579298e+12      None   \n",
      "11                     None  c2globalid           u  1.579361e+12      None   \n",
      "12                     None  c1globalid           u  1.578314e+12      None   \n",
      "13                     None  c1globalid           u  1.578420e+12      None   \n",
      "\n",
      "   card_number  credit_used  monthly_limit   status  \n",
      "0         None          NaN            NaN     None  \n",
      "1         None          NaN            NaN     None  \n",
      "2         None          NaN            NaN     None  \n",
      "3         None          NaN            NaN     None  \n",
      "4     11112222          0.0        30000.0  PENDING  \n",
      "5         None          NaN            NaN     None  \n",
      "6     12123434          0.0        70000.0  PENDING  \n",
      "7         None          NaN            NaN   CLOSED  \n",
      "8         None          0.0            NaN     None  \n",
      "9         None          NaN            NaN   ACTIVE  \n",
      "10        None          NaN            NaN   ACTIVE  \n",
      "11        None      37000.0            NaN     None  \n",
      "12        None      12000.0            NaN     None  \n",
      "13        None      19000.0            NaN     None  \n"
     ]
    }
   ],
   "source": [
    "# 2. Visualize the complete historical table view of the denormalized joined table in stdout by joining these three tables\n",
    "print('Historical Accounts & Cards')\n",
    "query = '''with source1 as (SELECT accounts.timestamp at,cards.timestamp ct,accounts.*,cards.*\n",
    "        FROM accounts\n",
    "        left join cards on cards.timestamp=accounts.timestamp order by accounts.timestamp asc),\n",
    "        source2 as (SELECT accounts.timestamp at,cards.timestamp ct,accounts.*,cards.*\n",
    "        FROM cards\n",
    "        left join accounts on cards.timestamp=accounts.timestamp order by accounts.timestamp asc),\n",
    "        source as (select * from source1 union all select * from source2)\n",
    "        select distinct *\n",
    "        from source\n",
    "'''\n",
    "result_df = pd.read_sql_query(query, conn)\n",
    "print(result_df)\n",
    "print('Historical Accounts & Saving Accounts')\n",
    "query2 = '''with source1 as (SELECT accounts.timestamp at,saving_accounts.timestamp ct,accounts.*,saving_accounts.*\n",
    "        FROM accounts\n",
    "        left join saving_accounts on saving_accounts.timestamp=accounts.timestamp order by accounts.timestamp asc),\n",
    "        source2 as (SELECT accounts.timestamp at,saving_accounts.timestamp ct,accounts.*,saving_accounts.*\n",
    "        FROM saving_accounts\n",
    "        left join accounts on saving_accounts.timestamp=accounts.timestamp order by accounts.timestamp asc),\n",
    "        source as (select * from source1 union all select * from source2)\n",
    "        select distinct *\n",
    "        from source\n",
    "'''\n",
    "result_df2 = pd.read_sql_query(query2, conn)\n",
    "print(result_df2)\n"
   ]
  },
  {
   "cell_type": "code",
   "execution_count": 99,
   "metadata": {},
   "outputs": [
    {
     "name": "stdout",
     "output_type": "stream",
     "text": [
      "total credit used:\n",
      "    at            ct operation:1  credit_used\n",
      "11 NaN  1.579361e+12           u      37000.0\n",
      "12 NaN  1.578314e+12           u      12000.0\n",
      "13 NaN  1.578420e+12           u      19000.0\n",
      "\n",
      " total balance change:\n",
      "    at            ct operation:1  balance\n",
      "9  NaN  1.578649e+12           u  40000.0\n",
      "10 NaN  1.578654e+12           u  21000.0\n",
      "11 NaN  1.579505e+12           u  33000.0\n",
      "12 NaN  1.577956e+12           u  15000.0\n"
     ]
    }
   ],
   "source": [
    "# 3.From result from point no 2, discuss how many transactions has been made, when did each of them occur, and how much the value of each transaction?  \n",
    "selected_rows_df = result_df.loc[result_df['credit_used'] > 0, ['at', 'ct', 'operation:1', 'credit_used']]\n",
    "print(\"total credit used:\")\n",
    "print(selected_rows_df)\n",
    "# 3.From result from point no 2, discuss how many transactions has been made, when did each of them occur, and how much the value of each transaction?  \n",
    "selected_rows_df2 = result_df2.loc[result_df2['balance'] > 0, ['at', 'ct', 'operation:1', 'balance']]\n",
    "print(\"\\n total balance change:\")\n",
    "print(selected_rows_df2)"
   ]
  }
 ],
 "metadata": {
  "kernelspec": {
   "display_name": "Python 3",
   "language": "python",
   "name": "python3"
  },
  "language_info": {
   "codemirror_mode": {
    "name": "ipython",
    "version": 3
   },
   "file_extension": ".py",
   "mimetype": "text/x-python",
   "name": "python",
   "nbconvert_exporter": "python",
   "pygments_lexer": "ipython3",
   "version": "3.8.2"
  }
 },
 "nbformat": 4,
 "nbformat_minor": 2
}
